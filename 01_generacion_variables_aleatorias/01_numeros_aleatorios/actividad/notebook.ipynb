{
 "cells": [
  {
   "cell_type": "markdown",
   "id": "57867108",
   "metadata": {},
   "source": [
    "Actividad 1: Simulación Estocástica\n",
    "\n",
    "**Curso:** TEMAS SELECTOS 1 (O25-LAT4032-1)  \n",
    "**Profesor:** Rubén Blancas Rivera  \n",
    "**Alumno:** Heriberto Espino  \n",
    "**Universidad:** Universidad de las Américas Puebla  \n",
    "**Fecha:** 2025-08-15\n",
    "**Selection of exercises:** Pares."
   ]
  },
  {
   "cell_type": "markdown",
   "id": "e4089afe",
   "metadata": {},
   "source": [
    "# Ejercicio\n",
    "\n",
    "Si $x_0 = 5$ y $x_n = 2x_{{n-1}} \\bmod 150$. Encontrar $x_1, \\dots, x_{{10}}$."
   ]
  },
  {
   "cell_type": "markdown",
   "id": "4f5d458f",
   "metadata": {},
   "source": [
    "$$\n",
    "x_n = ax_{n-1} \\bmod m\n",
    "$$"
   ]
  },
  {
   "cell_type": "markdown",
   "id": "d38f7181",
   "metadata": {},
   "source": [
    "$$\n",
    "10 = 2*5 \\bmod 150 \\\\\n",
    "20 = 10*5 \\bmod 150 \\\\\n",
    "40 = 20*5 \\bmod 150 \\\\\n",
    "80 = 40*5 \\bmod 150 \\\\\n",
    "10 = 80*5 \\bmod 150 \\\\\n",
    "\\vdots\n",
    "$$"
   ]
  },
  {
   "cell_type": "code",
   "execution_count": 3,
   "id": "a7388686",
   "metadata": {},
   "outputs": [
    {
     "name": "stdout",
     "output_type": "stream",
     "text": [
      "[10, 20, 40, 80, 10, 20, 40, 80, 10, 20]\n"
     ]
    }
   ],
   "source": [
    "pseudoaleatorios = []\n",
    "\n",
    "x0 = 5\n",
    "a = 2\n",
    "m = 150\n",
    "\n",
    "for i in range(10):\n",
    "    xn = (a * x0) % m\n",
    "    x0 = xn\n",
    "    pseudoaleatorios.append(xn)\n",
    "\n",
    "print(pseudoaleatorios)"
   ]
  },
  {
   "cell_type": "markdown",
   "id": "5db10c34",
   "metadata": {},
   "source": [
    "# Ejercicio\n",
    "\n",
    "$$\\int_{0}^{1} \\exp(e^x)\\,dx$$"
   ]
  },
  {
   "cell_type": "markdown",
   "id": "d184a174",
   "metadata": {},
   "source": [
    "Sea\n",
    "$$\n",
    "\\theta = \\int_{0}^{1} \\exp\\!\\big(e^{x}\\big)\\,dx.\n",
    "$$\n",
    "\n",
    "Reescritura como valor esperado con $U\\sim \\mathrm{Unif}(0,1)$:\n",
    "$$\n",
    "\\theta=\\mathbb{E}\\!\\left[\\exp\\!\\big(e^{U}\\big)\\right].\n",
    "$$\n",
    "\n",
    "Estimador Monte Carlo con $u_1,\\dots,u_K \\stackrel{\\text{iid}}{\\sim} \\mathrm{Unif}(0,1)$:\n",
    "$$\n",
    "\\widehat{\\theta}_K=\\frac{1}{K}\\sum_{i=1}^{K} \\exp\\!\\big(e^{u_i}\\big).\n",
    "$$\n"
   ]
  },
  {
   "cell_type": "code",
   "execution_count": 8,
   "id": "0c6e0490",
   "metadata": {},
   "outputs": [
    {
     "data": {
      "text/plain": [
       "np.float64(6.229521839385485)"
      ]
     },
     "execution_count": 8,
     "metadata": {},
     "output_type": "execute_result"
    }
   ],
   "source": [
    "import numpy as np\n",
    "\n",
    "def h(u):\n",
    "    return np.exp(np.exp(u))\n",
    "\n",
    "k = 1000\n",
    "\n",
    "u = np.random.random(k)\n",
    "\n",
    "h(u).mean()"
   ]
  },
  {
   "cell_type": "markdown",
   "id": "ffcea95a",
   "metadata": {},
   "source": [
    "# Ejercicio\n",
    "\n",
    "$$\\int_{-2}^{2} e^{x+x^2} \\, dx$$\n"
   ]
  },
  {
   "cell_type": "markdown",
   "id": "79987985",
   "metadata": {},
   "source": [
    "Sea\n",
    "$$\n",
    "\\theta=\\int_{-2}^{2} e^{x+x^2}\\,dx.\n",
    "$$\n",
    "\n",
    "Cambio de variable a \\([0,1]\\):\n",
    "$$\n",
    "u=\\frac{x-(-2)}{2-(-2)}=\\frac{x+2}{4},\\qquad x=-2+4u,\\qquad dx=4\\,du.\n",
    "$$\n",
    "\n",
    "Entonces\n",
    "$$\n",
    "\\theta=\\int_{0}^{1} 4\\,\\exp\\!\\big[(-2+4u)+(-2+4u)^2\\big]\\,du.\n",
    "$$\n",
    "\n",
    "Forma de valor esperado con $U\\sim\\mathrm{Unif}(0,1)$:\n",
    "$$\n",
    "\\theta=\\mathbb{E}\\!\\left[g(U)\\right],\\qquad\n",
    "g(u)=4\\,\\exp\\!\\big[(-2+4u)+(-2+4u)^2\\big].\n",
    "$$\n",
    "\n",
    "Estimador Monte Carlo:\n",
    "$$\n",
    "\\widehat{\\theta}_K=\\frac{1}{K}\\sum_{i=1}^{K} g(u_i),\\qquad u_i\\stackrel{iid}{\\sim}\\mathrm{Unif}(0,1).\n",
    "$$\n"
   ]
  },
  {
   "cell_type": "code",
   "execution_count": 19,
   "id": "39988c5e",
   "metadata": {},
   "outputs": [
    {
     "data": {
      "text/plain": [
       "np.float64(94.60588956711096)"
      ]
     },
     "execution_count": 19,
     "metadata": {},
     "output_type": "execute_result"
    }
   ],
   "source": [
    "def h(u):\n",
    "    return (b-a)*np.exp(a+(b-a)*u + (a+(b-a)*u)**2)\n",
    "\n",
    "k = 10000\n",
    "a = -2\n",
    "b = 2\n",
    "u = np.random.random(k)\n",
    "h(u).mean()"
   ]
  },
  {
   "cell_type": "markdown",
   "id": "56af4e54",
   "metadata": {},
   "source": [
    "# Ejercicio \n",
    "\n",
    "$$\\int_{0}^{\\infty} \\frac{x}{(1+x^2)^2} \\, dx$$"
   ]
  },
  {
   "cell_type": "markdown",
   "id": "33e9ccb5",
   "metadata": {},
   "source": [
    "Sea\n",
    "$$\n",
    "\\theta=\\int_{0}^{\\infty}\\frac{x}{(1+x^2)^2}\\,dx.\n",
    "$$\n",
    "\n",
    "Cambio (pág. 21): \n",
    "$$\n",
    "y=\\frac{1}{x+1},\\qquad dy=-\\frac{dx}{(x+1)^2}=-y^{2}\\,dx.\n",
    "$$\n",
    "Entonces\n",
    "$$\n",
    "\\theta=\\int_{0}^{1} h(y)\\,dy,\\qquad \n",
    "h(y)=\\frac{g\\!\\left(\\tfrac{1}{y}-1\\right)}{y^{2}},\\quad \n",
    "g(x)=\\frac{x}{(1+x^{2})^{2}}.\n",
    "$$\n",
    "\n",
    "Cálculo explícito de $h$:\n",
    "$$\n",
    "x=\\frac{1-y}{y}\n",
    "\\;\\Rightarrow\\;\n",
    "h(y)=\\frac{(1-y)\\,y}{\\big(1-2y+2y^{2}\\big)^{2}},\\qquad y\\in(0,1).\n",
    "$$\n",
    "\n",
    "Forma de esperanza con $U\\sim \\mathrm{Unif}(0,1)$:\n",
    "$$\n",
    "\\theta=\\mathbb{E}[\\,h(U)\\,].\n",
    "$$\n",
    "\n",
    "Estimador Monte Carlo:\n",
    "$$\n",
    "\\widehat{\\theta}_K=\\frac{1}{K}\\sum_{i=1}^{K} h(u_i),\n",
    "\\quad u_i\\stackrel{\\text{iid}}{\\sim}\\mathrm{Unif}(0,1).\n",
    "$$\n",
    "\n",
    "Chequeo analítico:\n",
    "$$\n",
    "\\theta=\\int_{0}^{\\infty}\\frac{x}{(1+x^2)^2}\\,dx\n",
    "=-\\tfrac{1}{2}\\int_{0}^{\\infty} d\\!\\left(\\frac{1}{1+x^{2}}\\right)\n",
    "=\\tfrac{1}{2}.\n",
    "$$\n"
   ]
  },
  {
   "cell_type": "code",
   "execution_count": 33,
   "id": "84cba87c",
   "metadata": {},
   "outputs": [
    {
     "data": {
      "text/plain": [
       "np.float64(0.5000960390593421)"
      ]
     },
     "execution_count": 33,
     "metadata": {},
     "output_type": "execute_result"
    }
   ],
   "source": [
    "def h(u):\n",
    "    return ((((1/u)-1)/(1+((1/u)-1)**2)**2))/(u**2)\n",
    "\n",
    "k = 10000000\n",
    "\n",
    "u = np.random.random(k)\n",
    "h(u).mean()"
   ]
  },
  {
   "cell_type": "markdown",
   "id": "1824fb50",
   "metadata": {},
   "source": [
    "Sea\n",
    "$$\n",
    "\\theta=\\int_{0}^{\\infty}\\frac{x}{(1+x^2)^2}\\,dx.\n",
    "$$\n",
    "\n",
    "1) Integral impropia:\n",
    "$$\n",
    "\\theta=\\lim_{b\\to\\infty}\\int_{0}^{b}\\frac{x}{(1+x^2)^2}\\,dx.\n",
    "$$\n",
    "\n",
    "2) Sustitución $u=1+x^2\\Rightarrow du=2x\\,dx$:\n",
    "cuando $x=0\\Rightarrow u=1$, cuando $x=b\\Rightarrow u=1+b^2$.\n",
    "Entonces\n",
    "$$\n",
    "\\int_{0}^{b}\\frac{x}{(1+x^2)^2}\\,dx\n",
    "=\\frac12\\int_{1}^{\\,1+b^2} u^{-2}\\,du.\n",
    "$$\n",
    "\n",
    "3) Primitiva:\n",
    "$$\n",
    "\\int u^{-2}\\,du=-u^{-1}+C.\n",
    "$$\n",
    "\n",
    "4) Evaluación:\n",
    "$$\n",
    "\\frac12\\Big[-u^{-1}\\Big]_{1}^{\\,1+b^2}\n",
    "=\\frac12\\!\\left(-\\frac{1}{1+b^2}+1\\right).\n",
    "$$\n",
    "\n",
    "5) Límite:\n",
    "$$\n",
    "\\theta=\\lim_{b\\to\\infty}\\frac12\\!\\left(1-\\frac{1}{1+b^2}\\right)\n",
    "=\\frac12.\n",
    "$$\n",
    "\n",
    "(Equivalente por antiderivación directa:\n",
    "$\\displaystyle \\int \\frac{x}{(1+x^2)^2}dx=-\\frac{1}{2(1+x^2)}+C$,\n",
    "y luego $\\theta=\\lim_{b\\to\\infty}\\big[-\\tfrac{1}{2(1+x^2)}\\big]_{0}^{b}=\\tfrac12$.)\n"
   ]
  },
  {
   "cell_type": "markdown",
   "id": "40281d12",
   "metadata": {},
   "source": [
    "# Ejercicio \n",
    "\n",
    "\n",
    "$$\\int_{0}^{1} \\int_{0}^{1} e^{(x+y)^2} \\, dy \\, dx$$\n",
    "\n"
   ]
  },
  {
   "cell_type": "code",
   "execution_count": 39,
   "id": "b9682834",
   "metadata": {},
   "outputs": [
    {
     "data": {
      "text/plain": [
       "np.float64(1.2140555137345483)"
      ]
     },
     "execution_count": 39,
     "metadata": {},
     "output_type": "execute_result"
    }
   ],
   "source": [
    "def h(u1, u2):\n",
    "    return 1/4 * np.exp((u1 + u2)**2)\n",
    "\n",
    "k = 10000\n",
    "\n",
    "u1 = np.random.random(k)\n",
    "u2 = np.random.random(k)\n",
    "h(u1, u2).mean()"
   ]
  },
  {
   "cell_type": "code",
   "execution_count": null,
   "id": "773d90f0",
   "metadata": {},
   "outputs": [],
   "source": [
    "# plot in 3d\n"
   ]
  },
  {
   "cell_type": "markdown",
   "id": "3630d504",
   "metadata": {},
   "source": [
    "# Ejercicio 11\n",
    "\n",
    "Usar simulación para aproximar $\\operatorname{{Cov}}(U, e^U)$, donde $U \\sim \\mathcal U(0,1)$.\n",
    "Comparar con la respuesta exacta."
   ]
  },
  {
   "cell_type": "code",
   "execution_count": 47,
   "id": "ef38ce61",
   "metadata": {},
   "outputs": [
    {
     "data": {
      "text/plain": [
       "np.float64(0.1409069042870994)"
      ]
     },
     "execution_count": 47,
     "metadata": {},
     "output_type": "execute_result"
    }
   ],
   "source": [
    "def valor_esperado_1(u):\n",
    "    return u * np.exp(u)\n",
    "\n",
    "def valor_esperado_2(u):\n",
    "    return u\n",
    "\n",
    "def valor_esperado_3(u):\n",
    "    return np.exp(u)\n",
    "\n",
    "k = 1000000\n",
    "\n",
    "u = np.random.random(k)\n",
    "\n",
    "valor_esperado_1(u).mean() - valor_esperado_2(u).mean() * valor_esperado_3(u).mean()\n"
   ]
  },
  {
   "cell_type": "code",
   "execution_count": 48,
   "id": "fd236317",
   "metadata": {},
   "outputs": [
    {
     "data": {
      "text/plain": [
       "0.14085908577047745"
      ]
     },
     "execution_count": 48,
     "metadata": {},
     "output_type": "execute_result"
    }
   ],
   "source": [
    "1 - 1/2*(np.e -1)"
   ]
  },
  {
   "cell_type": "markdown",
   "id": "7f99074b",
   "metadata": {},
   "source": [
    "## Ejercicio 13\n",
    "\n",
    "Para variables aleatorias uniformes $U_1, U_2, \\ldots$ definir\n",
    "$$N = \\min\\left\\{ n : \\sum_{i=1}^{n} U_i > 1 \\right\\}.$$\n",
    "Estimar $\\mathbb E[N]$ por simulación con:\n",
    "a) 100 valores,  b) 1000 valores,  c) 10000 valores,  d) Discutir el valor esperado.\n"
   ]
  },
  {
   "cell_type": "code",
   "execution_count": null,
   "id": "e46d10c4",
   "metadata": {},
   "outputs": [],
   "source": [
    "def minimo_N(k):\n",
    "    lista_contadores = []\n",
    "    for _ in range(k):\n",
    "        suma = 0\n",
    "        contador = 0\n",
    "        while suma < 1:\n",
    "            contador += 1\n",
    "            suma += np.random.random()\n",
    "        lista_contadores.append(contador)\n",
    "    return lista_contadores"
   ]
  },
  {
   "cell_type": "code",
   "execution_count": 89,
   "id": "7033de07",
   "metadata": {},
   "outputs": [],
   "source": [
    "lista_para_dist = minimo_N(1000000)"
   ]
  },
  {
   "cell_type": "code",
   "execution_count": 90,
   "id": "a3f66efd",
   "metadata": {},
   "outputs": [
    {
     "data": {
      "image/png": "[encoded data removed]",
      "text/plain": [
       "<Figure size 640x480 with 1 Axes>"
      ]
     },
     "metadata": {},
     "output_type": "display_data"
    }
   ],
   "source": [
    "import matplotlib.pyplot as plt\n",
    "plt.hist(lista_para_dist, bins=30, density=True)   \n",
    "plt.show()"
   ]
  },
  {
   "cell_type": "code",
   "execution_count": 80,
   "id": "bbfc8048",
   "metadata": {},
   "outputs": [
    {
     "data": {
      "text/plain": [
       "np.float64(2.725)"
      ]
     },
     "execution_count": 80,
     "metadata": {},
     "output_type": "execute_result"
    }
   ],
   "source": [
    "minimo_N(1_000)"
   ]
  },
  {
   "cell_type": "code",
   "execution_count": 81,
   "id": "de965abc",
   "metadata": {},
   "outputs": [
    {
     "data": {
      "text/plain": [
       "np.float64(2.7227)"
      ]
     },
     "execution_count": 81,
     "metadata": {},
     "output_type": "execute_result"
    }
   ],
   "source": [
    "minimo_N(10_000)"
   ]
  },
  {
   "cell_type": "code",
   "execution_count": null,
   "id": "196beb98",
   "metadata": {},
   "outputs": [
    {
     "ename": "KeyboardInterrupt",
     "evalue": "",
     "output_type": "error",
     "traceback": [
      "\u001b[31m---------------------------------------------------------------------------\u001b[39m",
      "\u001b[31mKeyboardInterrupt\u001b[39m                         Traceback (most recent call last)",
      "\u001b[36mCell\u001b[39m\u001b[36m \u001b[39m\u001b[32mIn[82]\u001b[39m\u001b[32m, line 1\u001b[39m\n\u001b[32m----> \u001b[39m\u001b[32m1\u001b[39m minimo_N(\u001b[32m1000000000\u001b[39m)\n",
      "\u001b[36mCell\u001b[39m\u001b[36m \u001b[39m\u001b[32mIn[58]\u001b[39m\u001b[32m, line 6\u001b[39m, in \u001b[36mminimo_N\u001b[39m\u001b[34m(k)\u001b[39m\n\u001b[32m      4\u001b[39m suma = \u001b[32m0\u001b[39m\n\u001b[32m      5\u001b[39m contador = \u001b[32m0\u001b[39m\n\u001b[32m----> \u001b[39m\u001b[32m6\u001b[39m \u001b[38;5;28;01mwhile\u001b[39;00m suma < \u001b[32m1\u001b[39m:\n\u001b[32m      7\u001b[39m     contador += \u001b[32m1\u001b[39m\n\u001b[32m      8\u001b[39m     suma += np.random.random()\n",
      "\u001b[31mKeyboardInterrupt\u001b[39m: "
     ]
    }
   ],
   "source": []
  }
 ],
 "metadata": {
  "kernelspec": {
   "display_name": "u",
   "language": "python",
   "name": "python3"
  },
  "language_info": {
   "codemirror_mode": {
    "name": "ipython",
    "version": 3
   },
   "file_extension": ".py",
   "mimetype": "text/x-python",
   "name": "python",
   "nbconvert_exporter": "python",
   "pygments_lexer": "ipython3",
   "version": "3.11.13"
  }
 },
 "nbformat": 4,
 "nbformat_minor": 5
}
