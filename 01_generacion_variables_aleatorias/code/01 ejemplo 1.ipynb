{
 "cells": [
  {
   "cell_type": "code",
   "execution_count": null,
   "id": "0c617419",
   "metadata": {},
   "outputs": [],
   "source": [
    "import numpy as np"
   ]
  },
  {
   "cell_type": "code",
   "execution_count": null,
   "id": "3d891f65",
   "metadata": {},
   "outputs": [],
   "source": [
    "def h(u):\n",
    "    return (b-a)*np.exp(a+(b-a)*u + (a+(b-a)*u))"
   ]
  },
  {
   "cell_type": "code",
   "execution_count": 17,
   "id": "0dd74b95",
   "metadata": {},
   "outputs": [
    {
     "data": {
      "text/plain": [
       "np.float64(95.87450035047169)"
      ]
     },
     "execution_count": 17,
     "metadata": {},
     "output_type": "execute_result"
    }
   ],
   "source": [
    "k = 1000\n",
    "a = -2\n",
    "b = 2\n",
    "u = np.random.random(k)\n",
    "h(u).mean()"
   ]
  }
 ],
 "metadata": {
  "kernelspec": {
   "display_name": "u",
   "language": "python",
   "name": "python3"
  },
  "language_info": {
   "codemirror_mode": {
    "name": "ipython",
    "version": 3
   },
   "file_extension": ".py",
   "mimetype": "text/x-python",
   "name": "python",
   "nbconvert_exporter": "python",
   "pygments_lexer": "ipython3",
   "version": "3.11.13"
  }
 },
 "nbformat": 4,
 "nbformat_minor": 5
}
