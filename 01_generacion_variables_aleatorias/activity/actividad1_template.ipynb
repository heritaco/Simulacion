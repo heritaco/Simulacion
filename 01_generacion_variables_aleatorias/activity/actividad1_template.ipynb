{
 "cells": [
  {
   "cell_type": "markdown",
   "id": "57867108",
   "metadata": {},
   "source": [
    "# Actividad 1: Simulación Estocástica\n",
    "\n",
    "**Curso:** TEMAS SELECTOS 1 (O25-LAT4032-1)  \n",
    "**Profesor:** Rubén Blancas Rivera  \n",
    "**Alumno:** Heriberto Espino  \n",
    "**Universidad:** Universidad de las Américas Puebla  \n",
    "**Fecha:** 2025-08-15\n",
    "\n",
    "> Export this notebook to PDF with LaTeX using the provided `amsart_template.tplx` for a Times-like, AMS-style layout.\n",
    ">\n",
    "> Command:\n",
    "> ```bash\n",
    "> jupyter nbconvert --to pdf --template amsart_template.tplx actividad1_template.ipynb\n",
    "> jupyter nbconvert /path/to/mynotebook.ipynb --to latex\n",
    "> ```\n",
    "\n",
    "**Selection of exercises:** _Indicate here whether you solved **evens** or **odds** only (teams max 3)._\n"
   ]
  },
  {
   "cell_type": "markdown",
   "id": "e4089afe",
   "metadata": {},
   "source": [
    "## Ejercicio 1\n",
    "\n",
    "**Enunciado**\n",
    "\n",
    "Si $x_0 = 5$ y $x_n = 2x_{{n-1}} \\bmod 150$. Encontrar $x_1, \\dots, x_{{10}}$.\n",
    "\n",
    "**Mathematical justification / reasoning**\n",
    "\n",
    "_Write your derivations and explanations here._\n"
   ]
  },
  {
   "cell_type": "code",
   "execution_count": 1,
   "id": "a7388686",
   "metadata": {},
   "outputs": [],
   "source": [
    "# Ejercicio 1 — Python code\n",
    "# Write clean, commented, and reproducible code here.\n",
    "# Use numpy, scipy, matplotlib as needed.\n"
   ]
  },
  {
   "cell_type": "markdown",
   "id": "d069af4b",
   "metadata": {},
   "source": [
    "## Ejercicio 2\n",
    "\n",
    "**Enunciado**\n",
    "\n",
    "Si $x_0 = 3$ y $x_n = (5x_{{n-1}} + 7) \\bmod 200$. Encontrar $x_1, \\dots, x_{{10}}$.\n",
    "\n",
    "**Mathematical justification / reasoning**\n",
    "\n",
    "_Write your derivations and explanations here._\n"
   ]
  },
  {
   "cell_type": "code",
   "execution_count": 2,
   "id": "e82d20b2",
   "metadata": {},
   "outputs": [],
   "source": [
    "# Ejercicio 2 — Python code\n",
    "# Write clean, commented, and reproducible code here.\n",
    "# Use numpy, scipy, matplotlib as needed.\n"
   ]
  },
  {
   "cell_type": "markdown",
   "id": "5db10c34",
   "metadata": {},
   "source": [
    "## Ejercicio 3\n",
    "\n",
    "**Enunciado**\n",
    "\n",
    "Aproximar por simulación:\n",
    "\n",
    "$$\\int_{0}^{1} \\exp(e^x)\\,dx$$\n",
    "Comparar con la respuesta exacta si es conocida.\n",
    "\n",
    "**Mathematical justification / reasoning**\n",
    "\n",
    "_Write your derivations and explanations here._\n"
   ]
  },
  {
   "cell_type": "code",
   "execution_count": 3,
   "id": "0c6e0490",
   "metadata": {},
   "outputs": [],
   "source": [
    "# Ejercicio 3 — Python code\n",
    "# Write clean, commented, and reproducible code here.\n",
    "# Use numpy, scipy, matplotlib as needed.\n"
   ]
  },
  {
   "cell_type": "markdown",
   "id": "0887a034",
   "metadata": {},
   "source": [
    "## Ejercicio 4\n",
    "\n",
    "**Enunciado**\n",
    "\n",
    "Aproximar por simulación:\n",
    "\n",
    "$$\\int_{0}^{1} (1 - x^2)^{3/2} \\, dx$$\n",
    "Comparar con la respuesta exacta si es conocida.\n",
    "\n",
    "**Mathematical justification / reasoning**\n",
    "\n",
    "_Write your derivations and explanations here._\n"
   ]
  },
  {
   "cell_type": "code",
   "execution_count": 4,
   "id": "b3542020",
   "metadata": {},
   "outputs": [],
   "source": [
    "# Ejercicio 4 — Python code\n",
    "# Write clean, commented, and reproducible code here.\n",
    "# Use numpy, scipy, matplotlib as needed.\n"
   ]
  },
  {
   "cell_type": "markdown",
   "id": "ffcea95a",
   "metadata": {},
   "source": [
    "## Ejercicio 5\n",
    "\n",
    "**Enunciado**\n",
    "\n",
    "Aproximar por simulación:\n",
    "\n",
    "$$\\int_{-2}^{2} e^{x+x^2} \\, dx$$\n",
    "Comparar con la respuesta exacta si es conocida.\n",
    "\n",
    "**Mathematical justification / reasoning**\n",
    "\n",
    "_Write your derivations and explanations here._\n"
   ]
  },
  {
   "cell_type": "code",
   "execution_count": 5,
   "id": "39988c5e",
   "metadata": {},
   "outputs": [],
   "source": [
    "# Ejercicio 5 — Python code\n",
    "# Write clean, commented, and reproducible code here.\n",
    "# Use numpy, scipy, matplotlib as needed.\n"
   ]
  },
  {
   "cell_type": "markdown",
   "id": "16a6656f",
   "metadata": {},
   "source": [
    "## Ejercicio 6\n",
    "\n",
    "**Enunciado**\n",
    "\n",
    "Aproximar por simulación:\n",
    "\n",
    "$$\\int_{0}^{\\infty} e^{-x} \\, dx$$\n",
    "\n",
    "**Mathematical justification / reasoning**\n",
    "\n",
    "_Write your derivations and explanations here._\n"
   ]
  },
  {
   "cell_type": "code",
   "execution_count": 6,
   "id": "b6e4b21b",
   "metadata": {},
   "outputs": [],
   "source": [
    "# Ejercicio 6 — Python code\n",
    "# Write clean, commented, and reproducible code here.\n",
    "# Use numpy, scipy, matplotlib as needed.\n"
   ]
  },
  {
   "cell_type": "markdown",
   "id": "56af4e54",
   "metadata": {},
   "source": [
    "## Ejercicio 7\n",
    "\n",
    "**Enunciado**\n",
    "\n",
    "Aproximar por simulación:\n",
    "\n",
    "$$\\int_{0}^{\\infty} \\frac{x}{(1+x^2)^2} \\, dx$$\n",
    "\n",
    "**Mathematical justification / reasoning**\n",
    "\n",
    "_Write your derivations and explanations here._\n"
   ]
  },
  {
   "cell_type": "code",
   "execution_count": 7,
   "id": "84cba87c",
   "metadata": {},
   "outputs": [],
   "source": [
    "# Ejercicio 7 — Python code\n",
    "# Write clean, commented, and reproducible code here.\n",
    "# Use numpy, scipy, matplotlib as needed.\n"
   ]
  },
  {
   "cell_type": "markdown",
   "id": "944460f8",
   "metadata": {},
   "source": [
    "## Ejercicio 8\n",
    "\n",
    "**Enunciado**\n",
    "\n",
    "Aproximar por simulación:\n",
    "\n",
    "$$\\int_{-\\infty}^{\\infty} e^{-x^2} \\, dx$$\n",
    "\n",
    "**Mathematical justification / reasoning**\n",
    "\n",
    "_Write your derivations and explanations here._\n"
   ]
  },
  {
   "cell_type": "code",
   "execution_count": 8,
   "id": "b8a91401",
   "metadata": {},
   "outputs": [],
   "source": [
    "# Ejercicio 8 — Python code\n",
    "# Write clean, commented, and reproducible code here.\n",
    "# Use numpy, scipy, matplotlib as needed.\n"
   ]
  },
  {
   "cell_type": "markdown",
   "id": "40281d12",
   "metadata": {},
   "source": [
    "## Ejercicio 9\n",
    "\n",
    "**Enunciado**\n",
    "\n",
    "Aproximar por simulación:\n",
    "\n",
    "$$\\int_{0}^{1} \\int_{0}^{1} e^{(x+y)^2} \\, dy \\, dx$$\n",
    "\n",
    "**Mathematical justification / reasoning**\n",
    "\n",
    "_Write your derivations and explanations here._\n"
   ]
  },
  {
   "cell_type": "code",
   "execution_count": 9,
   "id": "b9682834",
   "metadata": {},
   "outputs": [],
   "source": [
    "# Ejercicio 9 — Python code\n",
    "# Write clean, commented, and reproducible code here.\n",
    "# Use numpy, scipy, matplotlib as needed.\n"
   ]
  },
  {
   "cell_type": "markdown",
   "id": "6233cc8c",
   "metadata": {},
   "source": [
    "## Ejercicio 10\n",
    "\n",
    "**Enunciado**\n",
    "\n",
    "Aproximar por simulación:\n",
    "\n",
    "$$\\int_{0}^{\\infty} \\int_{0}^{x} e^{-(x+y)} \\, dy \\, dx$$\n",
    "\n",
    "**Mathematical justification / reasoning**\n",
    "\n",
    "_Write your derivations and explanations here._\n"
   ]
  },
  {
   "cell_type": "code",
   "execution_count": 10,
   "id": "052da6ba",
   "metadata": {},
   "outputs": [],
   "source": [
    "# Ejercicio 10 — Python code\n",
    "# Write clean, commented, and reproducible code here.\n",
    "# Use numpy, scipy, matplotlib as needed.\n"
   ]
  },
  {
   "cell_type": "markdown",
   "id": "3630d504",
   "metadata": {},
   "source": [
    "## Ejercicio 11\n",
    "\n",
    "**Enunciado**\n",
    "\n",
    "Usar simulación para aproximar $\\operatorname{{Cov}}(U, e^U)$, donde $U \\sim \\mathcal U(0,1)$.\n",
    "Comparar con la respuesta exacta.\n",
    "\n",
    "**Mathematical justification / reasoning**\n",
    "\n",
    "_Write your derivations and explanations here._\n"
   ]
  },
  {
   "cell_type": "code",
   "execution_count": 11,
   "id": "ef38ce61",
   "metadata": {},
   "outputs": [],
   "source": [
    "# Ejercicio 11 — Python code\n",
    "# Write clean, commented, and reproducible code here.\n",
    "# Use numpy, scipy, matplotlib as needed.\n"
   ]
  },
  {
   "cell_type": "markdown",
   "id": "a69de486",
   "metadata": {},
   "source": [
    "## Ejercicio 12\n",
    "\n",
    "**Enunciado**\n",
    "\n",
    "Sea $U \\sim \\mathcal U(0,1)$. Aproximar por simulación:\n",
    "\n",
    "(a) $$\\operatorname{{Corr}}\\left(U, \\sqrt{1-U^2}\\right)$$\n",
    "\n",
    "(b) $$\\operatorname{{Corr}}\\left(U^2, \\sqrt{1-U^2}\\right)$$\n",
    "\n",
    "**Mathematical justification / reasoning**\n",
    "\n",
    "_Write your derivations and explanations here._\n",
    "\n",
    "\n",
    "**Notes**: For subparts, create separate code cells as needed.\n"
   ]
  },
  {
   "cell_type": "code",
   "execution_count": 12,
   "id": "c0bf9064",
   "metadata": {},
   "outputs": [],
   "source": [
    "# Ejercicio 12 — Python code\n",
    "# Write clean, commented, and reproducible code here.\n",
    "# Use numpy, scipy, matplotlib as needed.\n"
   ]
  },
  {
   "cell_type": "markdown",
   "id": "7f99074b",
   "metadata": {},
   "source": [
    "## Ejercicio 13\n",
    "\n",
    "**Enunciado**\n",
    "\n",
    "Para variables aleatorias uniformes $U_1, U_2, \\ldots$ definir\n",
    "$$N = \\min\\left\\{ n : \\sum_{i=1}^{n} U_i > 1 \\right\\}.$$\n",
    "Estimar $\\mathbb E[N]$ por simulación con:\n",
    "a) 100 valores,  b) 1000 valores,  c) 10000 valores,  d) Discutir el valor esperado.\n",
    "\n",
    "**Mathematical justification / reasoning**\n",
    "\n",
    "_Write your derivations and explanations here._\n",
    "\n",
    "\n",
    "**Notes**: For subparts, create separate code cells as needed.\n"
   ]
  },
  {
   "cell_type": "code",
   "execution_count": 13,
   "id": "e46d10c4",
   "metadata": {},
   "outputs": [],
   "source": [
    "# Ejercicio 13 — Python code\n",
    "# Write clean, commented, and reproducible code here.\n",
    "# Use numpy, scipy, matplotlib as needed.\n"
   ]
  },
  {
   "cell_type": "markdown",
   "id": "00e70ab7",
   "metadata": {},
   "source": [
    "## Ejercicio 14\n",
    "\n",
    "**Enunciado**\n",
    "\n",
    "Sea $U_i,\\ i\\ge 1$ i.i.d. uniformes $(0,1)$. Definir\n",
    "$$N = \\max\\left\\{ n : \\prod_{i=1}^{n} U_i \\ge e^{-3} \\right\\},\\quad \\text{con } \\prod_{i=0}^{0} U_i = 1.$$\n",
    "a) Encontrar $\\mathbb E[N]$ por simulación.\n",
    "b) Encontrar $\\mathbb P[N=i]$ para $i=0,1,2,3,4,5,6$.\n",
    "\n",
    "**Mathematical justification / reasoning**\n",
    "\n",
    "_Write your derivations and explanations here._\n",
    "\n",
    "\n",
    "**Notes**: For subparts, create separate code cells as needed.\n"
   ]
  },
  {
   "cell_type": "code",
   "execution_count": 14,
   "id": "88f3f896",
   "metadata": {},
   "outputs": [],
   "source": [
    "# Ejercicio 14 — Python code\n",
    "# Write clean, commented, and reproducible code here.\n",
    "# Use numpy, scipy, matplotlib as needed.\n"
   ]
  },
  {
   "cell_type": "markdown",
   "id": "69c43b1c",
   "metadata": {},
   "source": [
    "### Notas\n",
    "- Incluye justificaciones matemáticas claras y comenta tu código.\n",
    "- Mantén reproducibilidad: fija semillas cuando apliquen.\n",
    "- No incluyas capturas si ejecutas todo en el notebook; el PDF exportado mostrará salidas.\n"
   ]
  }
 ],
 "metadata": {
  "kernelspec": {
   "display_name": "u",
   "language": "python",
   "name": "python3"
  },
  "language_info": {
   "codemirror_mode": {
    "name": "ipython",
    "version": 3
   },
   "file_extension": ".py",
   "mimetype": "text/x-python",
   "name": "python",
   "nbconvert_exporter": "python",
   "pygments_lexer": "ipython3",
   "version": "3.11.13"
  }
 },
 "nbformat": 4,
 "nbformat_minor": 5
}
